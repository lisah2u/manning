{
 "cells": [
  {
   "cell_type": "code",
   "execution_count": 9,
   "metadata": {},
   "outputs": [],
   "source": [
    "import numpy as np\n",
    "\n",
    "def entropy(l):\n",
    "    n = sum(l)\n",
    "    l = [i/sum(l) for i in l]\n",
    "    return -np.dot(np.log2(l), l)"
   ]
  },
  {
   "cell_type": "code",
   "execution_count": 10,
   "metadata": {},
   "outputs": [
    {
     "name": "stdout",
     "output_type": "stream",
     "text": [
      "*********\n",
      "[0, 10]\n",
      "nan\n",
      "*********\n",
      "[1, 9]\n",
      "0.4689955935892812\n",
      "*********\n",
      "[2, 8]\n",
      "0.7219280948873623\n",
      "*********\n",
      "[3, 7]\n",
      "0.8812908992306927\n",
      "*********\n",
      "[4, 6]\n",
      "0.9709505944546686\n",
      "*********\n",
      "[5, 5]\n",
      "1.0\n",
      "*********\n",
      "[6, 4]\n",
      "0.9709505944546686\n",
      "*********\n",
      "[7, 3]\n",
      "0.8812908992306927\n",
      "*********\n",
      "[8, 2]\n",
      "0.7219280948873623\n",
      "*********\n",
      "[9, 1]\n",
      "0.4689955935892812\n"
     ]
    },
    {
     "name": "stderr",
     "output_type": "stream",
     "text": [
      "/Users/luisserrano/anaconda3/lib/python3.7/site-packages/ipykernel_launcher.py:6: RuntimeWarning: divide by zero encountered in log2\n",
      "  \n"
     ]
    }
   ],
   "source": [
    "n = 10\n",
    "for i in range(n):\n",
    "    data = [i,n-i]\n",
    "    print(\"*********\")\n",
    "    print(data)\n",
    "    print(entropy(data))"
   ]
  },
  {
   "cell_type": "code",
   "execution_count": 11,
   "metadata": {},
   "outputs": [
    {
     "data": {
      "text/plain": [
       "1.4591479170272448"
      ]
     },
     "execution_count": 11,
     "metadata": {},
     "output_type": "execute_result"
    }
   ],
   "source": [
    "entropy([3,2,1])"
   ]
  },
  {
   "cell_type": "code",
   "execution_count": null,
   "metadata": {},
   "outputs": [],
   "source": []
  }
 ],
 "metadata": {
  "kernelspec": {
   "display_name": "Python 3",
   "language": "python",
   "name": "python3"
  },
  "language_info": {
   "codemirror_mode": {
    "name": "ipython",
    "version": 3
   },
   "file_extension": ".py",
   "mimetype": "text/x-python",
   "name": "python",
   "nbconvert_exporter": "python",
   "pygments_lexer": "ipython3",
   "version": "3.7.6"
  }
 },
 "nbformat": 4,
 "nbformat_minor": 4
}
